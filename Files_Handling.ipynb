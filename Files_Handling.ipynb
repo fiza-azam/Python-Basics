{
  "nbformat": 4,
  "nbformat_minor": 0,
  "metadata": {
    "colab": {
      "name": "Files Handling.ipynb",
      "provenance": [],
      "collapsed_sections": [],
      "authorship_tag": "ABX9TyNn8tgIp2gbGfyPLHQg4LRN",
      "include_colab_link": true
    },
    "kernelspec": {
      "name": "python3",
      "display_name": "Python 3"
    },
    "language_info": {
      "name": "python"
    }
  },
  "cells": [
    {
      "cell_type": "markdown",
      "metadata": {
        "id": "view-in-github",
        "colab_type": "text"
      },
      "source": [
        "<a href=\"https://colab.research.google.com/github/fiza-azam/Python-Class/blob/main/Files_Handling.ipynb\" target=\"_parent\"><img src=\"https://colab.research.google.com/assets/colab-badge.svg\" alt=\"Open In Colab\"/></a>"
      ]
    },
    {
      "cell_type": "markdown",
      "metadata": {
        "id": "UMsDMkycdYTR"
      },
      "source": [
        "Anonymous Function/ Lambda Function"
      ]
    },
    {
      "cell_type": "code",
      "metadata": {
        "colab": {
          "base_uri": "https://localhost:8080/"
        },
        "id": "Vnmmt3pvdXqB",
        "outputId": "56ca85b2-12bc-450d-b331-52fcba20a61b"
      },
      "source": [
        "# lambda function\n",
        "sum = lambda x: x + 2\n",
        "\n",
        "print(sum(2))"
      ],
      "execution_count": null,
      "outputs": [
        {
          "output_type": "stream",
          "text": [
            "4\n"
          ],
          "name": "stdout"
        }
      ]
    },
    {
      "cell_type": "markdown",
      "metadata": {
        "id": "pgapJKAdekWF"
      },
      "source": [
        "The above code works same as the code below"
      ]
    },
    {
      "cell_type": "code",
      "metadata": {
        "colab": {
          "base_uri": "https://localhost:8080/"
        },
        "id": "BthWzKw8ejVW",
        "outputId": "4f72ab85-f351-4558-8291-cf8930e79a7a"
      },
      "source": [
        "def Mysum(x):\n",
        "   return x + 2\n",
        "\n",
        "print(Mysum(5))"
      ],
      "execution_count": null,
      "outputs": [
        {
          "output_type": "stream",
          "text": [
            "7\n"
          ],
          "name": "stdout"
        }
      ]
    },
    {
      "cell_type": "markdown",
      "metadata": {
        "id": "b7RPm64YfHeb"
      },
      "source": [
        "Lambda function with more than one argument"
      ]
    },
    {
      "cell_type": "code",
      "metadata": {
        "colab": {
          "base_uri": "https://localhost:8080/"
        },
        "id": "8ZgFQ3eEe3-I",
        "outputId": "801e1064-e85f-4179-c140-dd6b9829e7dd"
      },
      "source": [
        "mult = lambda a, b, c : a * b - c\n",
        "\n",
        "print(mult(4,3,2))"
      ],
      "execution_count": null,
      "outputs": [
        {
          "output_type": "stream",
          "text": [
            "10\n"
          ],
          "name": "stdout"
        }
      ]
    },
    {
      "cell_type": "markdown",
      "metadata": {
        "id": "Y2s4YfPvf-cS"
      },
      "source": [
        "Local and Global variables"
      ]
    },
    {
      "cell_type": "code",
      "metadata": {
        "colab": {
          "base_uri": "https://localhost:8080/"
        },
        "id": "cvRDfH5ffUDf",
        "outputId": "d6a966c9-8b8c-427a-ea45-0c2e2846ab08"
      },
      "source": [
        "# Global Variable\n",
        "total = 0 \n",
        "\n",
        "def sum(arg1, arg2):\n",
        "   # Add both the parameters and return them.\"\n",
        "   # Here total is local variable.\n",
        "   total = arg1 + arg2\n",
        "   print(\"Inside the function local total : \", total)\n",
        "   return total\n",
        "\n",
        "#Function Call\n",
        "sum(10, 10);\n",
        "print(\"Outside the function global total : \", total)"
      ],
      "execution_count": null,
      "outputs": [
        {
          "output_type": "stream",
          "text": [
            "Inside the function local total :  20\n",
            "Outside the function global total :  0\n"
          ],
          "name": "stdout"
        }
      ]
    },
    {
      "cell_type": "markdown",
      "metadata": {
        "id": "TKwt5NCivzdH"
      },
      "source": [
        "##File Handling"
      ]
    },
    {
      "cell_type": "markdown",
      "metadata": {
        "id": "ZbR7nY6mv4Vk"
      },
      "source": [
        "Mode\tDescription <br>\n",
        "r\t - Opens a file for reading. (default) <br>\n",
        "w\t - Opens a file for writing. Creates a new file if it does not exist or truncates the file if it exists. <br>\n",
        "x\t- Opens a file for exclusive creation. If the file already exists, the operation fails. <br>\n",
        "a\t- Opens a file for appending at the end of the file without truncating it. Creates a new file if it does not exist. <br>\n",
        "t\t- Opens in text mode. (default) <br>\n",
        "b\t- Opens in binary mode. <br>\n",
        "'+' \t- Opens a file for updating (reading and writing)"
      ]
    },
    {
      "cell_type": "code",
      "metadata": {
        "id": "Weay1mehvY2X"
      },
      "source": [
        "f = open(\"MyFile.txt\")\n",
        "\n",
        "#The above code is same as\n",
        "\n",
        "f = open(\"MyFile.txt\", \"rt\")"
      ],
      "execution_count": null,
      "outputs": []
    },
    {
      "cell_type": "code",
      "metadata": {
        "id": "dp6mZTnow1fj"
      },
      "source": [
        "f = open(\"MyFile3.txt\", \"wt\")"
      ],
      "execution_count": null,
      "outputs": []
    },
    {
      "cell_type": "markdown",
      "metadata": {
        "id": "OsmB4MSRxlr6"
      },
      "source": [
        "#Write to an Existing File\n",
        "To write to an existing file, you must add a parameter to the open() function:\n",
        "\n",
        "\"a\" - Append - will append to the end of the file\n",
        "\n",
        "\"w\" - Write - will overwrite any existing content"
      ]
    },
    {
      "cell_type": "code",
      "metadata": {
        "id": "Ly09hlNYxpgt"
      },
      "source": [
        "f = open(\"MyFile3.txt\", \"w\")\n",
        "f.write(\"Hello World\\n\")\n",
        "f.write(\"Hello World 2\")\n",
        "f.close()"
      ],
      "execution_count": null,
      "outputs": []
    },
    {
      "cell_type": "markdown",
      "metadata": {
        "id": "4hOyeQC40ba7"
      },
      "source": [
        "Read File"
      ]
    },
    {
      "cell_type": "code",
      "metadata": {
        "colab": {
          "base_uri": "https://localhost:8080/"
        },
        "id": "1tIIEYt2zHWn",
        "outputId": "fecd4e1a-1437-4385-8aad-cbb0ff0e8188"
      },
      "source": [
        "f = open(\"MyFile.txt\", \"r\")\n",
        "print(f.read())"
      ],
      "execution_count": null,
      "outputs": [
        {
          "output_type": "stream",
          "text": [
            "Hello World\n",
            "Hello World 2\n",
            "Hello World 3\n",
            "Hello World 4\n",
            "\n"
          ],
          "name": "stdout"
        }
      ]
    },
    {
      "cell_type": "markdown",
      "metadata": {
        "id": "QXYfh2c40tHq"
      },
      "source": [
        "Read file if it is saved on different location "
      ]
    },
    {
      "cell_type": "code",
      "metadata": {
        "id": "N-Eg4I8t0kSq"
      },
      "source": [
        "f = open(\"D:\\\\myfiles\\MyFile.txt\", \"r\")\n",
        "print(f.read())"
      ],
      "execution_count": null,
      "outputs": []
    },
    {
      "cell_type": "markdown",
      "metadata": {
        "id": "eXCpaEcI03OZ"
      },
      "source": [
        "Read characters of the file"
      ]
    },
    {
      "cell_type": "code",
      "metadata": {
        "colab": {
          "base_uri": "https://localhost:8080/"
        },
        "id": "Df_gRxRE1Clx",
        "outputId": "940733ba-ae4d-434d-c90f-e514270f06c2"
      },
      "source": [
        "f = open(\"MyFile.txt\", \"r\")\n",
        "print(f.read(5))"
      ],
      "execution_count": null,
      "outputs": [
        {
          "output_type": "stream",
          "text": [
            "Hello\n"
          ],
          "name": "stdout"
        }
      ]
    },
    {
      "cell_type": "markdown",
      "metadata": {
        "id": "g3ZMWd-N1Zpw"
      },
      "source": [
        "Read a line of a file"
      ]
    },
    {
      "cell_type": "code",
      "metadata": {
        "colab": {
          "base_uri": "https://localhost:8080/"
        },
        "id": "aBrVFvE01Hz1",
        "outputId": "f3ea748e-cecd-4552-d903-35a98f90a04a"
      },
      "source": [
        "f = open(\"MyFile.txt\", \"r\")\n",
        "print(f.readline())"
      ],
      "execution_count": null,
      "outputs": [
        {
          "output_type": "stream",
          "text": [
            "Hello World\n",
            "\n"
          ],
          "name": "stdout"
        }
      ]
    },
    {
      "cell_type": "code",
      "metadata": {
        "colab": {
          "base_uri": "https://localhost:8080/"
        },
        "id": "OT9Ttfh01lHv",
        "outputId": "d1795618-a3ce-4cf5-cc7f-104e9cccce0e"
      },
      "source": [
        "f = open(\"MyFile.txt\", \"r\")\n",
        "for x in f:\n",
        "  print(x)"
      ],
      "execution_count": null,
      "outputs": [
        {
          "output_type": "stream",
          "text": [
            "Hello World\n",
            "\n",
            "Hello World 2\n",
            "\n",
            "Hello World 3\n",
            "\n",
            "Hello World 4\n",
            "\n"
          ],
          "name": "stdout"
        }
      ]
    },
    {
      "cell_type": "code",
      "metadata": {
        "colab": {
          "base_uri": "https://localhost:8080/"
        },
        "id": "aEdf9USn1sAI",
        "outputId": "1f9127cb-c58c-498f-fe14-0336e6ba53f7"
      },
      "source": [
        "f = open(\"MyFile.txt\", \"r\")\n",
        "for x in range(0,3):\n",
        "  print(f.readline())"
      ],
      "execution_count": null,
      "outputs": [
        {
          "output_type": "stream",
          "text": [
            "Hello World\n",
            "\n",
            "Hello World 2\n",
            "\n",
            "Hello World 3\n",
            "\n"
          ],
          "name": "stdout"
        }
      ]
    },
    {
      "cell_type": "markdown",
      "metadata": {
        "id": "P2cpwgGO2Il-"
      },
      "source": [
        "Close File"
      ]
    },
    {
      "cell_type": "code",
      "metadata": {
        "colab": {
          "base_uri": "https://localhost:8080/"
        },
        "id": "fACKDx-P2AAE",
        "outputId": "1d5ddd0d-b6dc-497d-c417-ddf3440c1c6f"
      },
      "source": [
        "f = open(\"MyFile.txt\", \"r\")\n",
        "print(f.readline())\n",
        "f.close()"
      ],
      "execution_count": null,
      "outputs": [
        {
          "output_type": "stream",
          "text": [
            "Hello World\n",
            "\n"
          ],
          "name": "stdout"
        }
      ]
    },
    {
      "cell_type": "markdown",
      "metadata": {
        "id": "QcBSY8Gg2en9"
      },
      "source": [
        "Delete File"
      ]
    },
    {
      "cell_type": "code",
      "metadata": {
        "id": "6Z_UtSqm2eLe"
      },
      "source": [
        "import os\n",
        "os.remove(\"MyFile3.txt\")"
      ],
      "execution_count": null,
      "outputs": []
    },
    {
      "cell_type": "code",
      "metadata": {
        "id": "5xqRXqk12kEj",
        "colab": {
          "base_uri": "https://localhost:8080/"
        },
        "outputId": "40d81a33-d89c-4970-cc76-2ed7fdd71732"
      },
      "source": [
        "import os\n",
        "if os.path.exists(\"MyFile3.txt\"):\n",
        "  os.remove(\"MyFile3.txt\")\n",
        "else:\n",
        "  print(\"The file does not exist\")"
      ],
      "execution_count": null,
      "outputs": [
        {
          "output_type": "stream",
          "text": [
            "The file does not exist\n"
          ],
          "name": "stdout"
        }
      ]
    },
    {
      "cell_type": "markdown",
      "metadata": {
        "id": "Iot2gkaA3ClF"
      },
      "source": [
        "Delete Folder"
      ]
    },
    {
      "cell_type": "code",
      "metadata": {
        "id": "vpSa4JLv3EOI"
      },
      "source": [
        "import os\n",
        "os.rmdir(\"MyFolder\")"
      ],
      "execution_count": null,
      "outputs": []
    },
    {
      "cell_type": "markdown",
      "metadata": {
        "id": "1ak7z96sfmdS"
      },
      "source": [
        "#Tasks\n",
        "1. Use \"map\" built in funtion with lambda function\n",
        "2. Create any python program to show the working of Local and Global variables\n",
        "3. Create a file \"MyFile.txt\" using python code.\n",
        "4. Write 50 lines in a file \"MyFile.txt\"\n",
        "5. Read 5 characters of the file \"MyFile.txt\"\n",
        "6. Read 20 lines of MyFile.txt\n",
        "7. Read 4th and 6th line of the file\n",
        "8. Create a new file and delete it using python code\n",
        "9. Use the Following file handling methods in your code and explain their working:\n",
        "  - seek()\n",
        "  - readlines()\n",
        "  - tell()\n",
        "  - truncate()\n",
        "  - writeline()\n",
        "\n"
      ]
    }
  ]
}