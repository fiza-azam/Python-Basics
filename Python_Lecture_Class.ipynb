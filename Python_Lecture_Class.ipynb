{
  "nbformat": 4,
  "nbformat_minor": 0,
  "metadata": {
    "colab": {
      "name": "Python Lecture - Class.ipynb",
      "provenance": [],
      "collapsed_sections": [],
      "authorship_tag": "ABX9TyP2WKJ9l2U5j7t6mlPJsom+",
      "include_colab_link": true
    },
    "kernelspec": {
      "name": "python3",
      "display_name": "Python 3"
    },
    "language_info": {
      "name": "python"
    }
  },
  "cells": [
    {
      "cell_type": "markdown",
      "metadata": {
        "id": "view-in-github",
        "colab_type": "text"
      },
      "source": [
        "<a href=\"https://colab.research.google.com/github/fiza-azam/Python-Class/blob/main/Python_Lecture_Class.ipynb\" target=\"_parent\"><img src=\"https://colab.research.google.com/assets/colab-badge.svg\" alt=\"Open In Colab\"/></a>"
      ]
    },
    {
      "cell_type": "markdown",
      "metadata": {
        "id": "CJELyBmUpicA"
      },
      "source": [
        "Different assignment types"
      ]
    },
    {
      "cell_type": "code",
      "metadata": {
        "colab": {
          "base_uri": "https://localhost:8080/"
        },
        "id": "LPLV38B1pfA3",
        "outputId": "39f73b1b-2b0b-43e6-d57f-1ea2909dc6ca"
      },
      "source": [
        "#Tuple Assignment\n",
        "spam, notSpam = \"Suspicios\", \"Trust Worthy\"\n",
        "print(notSpam)\n",
        "\n",
        "#List Assignment\n",
        "List = ['a', 'b', 'c', 'd']\n",
        "List[0] = List[1] = 'X'\n",
        "print(List)\n",
        "\n",
        "print(id(List[0]))\n",
        "print(id(List[1]))\n",
        "\n",
        "# #Multiple Target Assignment\n",
        "spam = notSpam = \"Y\"\n",
        "print(id(spam))\n",
        "print(id(notSpam))"
      ],
      "execution_count": null,
      "outputs": [
        {
          "output_type": "stream",
          "text": [
            "140244007955376\n",
            "140244007955376\n"
          ],
          "name": "stdout"
        }
      ]
    },
    {
      "cell_type": "markdown",
      "metadata": {
        "id": "0285ycxGt-M-"
      },
      "source": [
        "Class in Python"
      ]
    },
    {
      "cell_type": "code",
      "metadata": {
        "colab": {
          "base_uri": "https://localhost:8080/"
        },
        "id": "mg4gaSawsZ1C",
        "outputId": "4370d8cc-517f-479e-94b6-18504094df97"
      },
      "source": [
        "class car:\n",
        "  model = \"2334\"\n",
        "\n",
        "obj = car()\n",
        "print(obj.model)"
      ],
      "execution_count": null,
      "outputs": [
        {
          "output_type": "stream",
          "text": [
            "2334\n"
          ],
          "name": "stdout"
        }
      ]
    },
    {
      "cell_type": "code",
      "metadata": {
        "colab": {
          "base_uri": "https://localhost:8080/"
        },
        "id": "sU8wPyhCt9k9",
        "outputId": "10afb46f-7d97-4674-a551-e24e2e257760"
      },
      "source": [
        "class car:\n",
        "  model = \"2334\"\n",
        "  def __init__(self, name):\n",
        "    print(\"This is \"+name+\"'s car\")\n",
        "\n",
        "obj = car(\"Basit\")\n",
        "#print(obj.model)\n"
      ],
      "execution_count": null,
      "outputs": [
        {
          "output_type": "stream",
          "text": [
            "This is Basit's car\n"
          ],
          "name": "stdout"
        }
      ]
    },
    {
      "cell_type": "code",
      "metadata": {
        "colab": {
          "base_uri": "https://localhost:8080/"
        },
        "id": "hJ5OJEpZy0PT",
        "outputId": "e5fcae15-ca0a-4e67-ae8a-3fed515ab6ca"
      },
      "source": [
        "class Person:\n",
        "  def __init__(myobject, name, age):\n",
        "    myobject.name = name\n",
        "    myobject.age = age\n",
        "\n",
        "  def myfunc(abc):\n",
        "    print(\"Hello my name is \" + abc.name)\n",
        "\n",
        "p1 = Person(\"John\", 36)\n",
        "p1.myfunc()\n"
      ],
      "execution_count": null,
      "outputs": [
        {
          "output_type": "stream",
          "text": [
            "Hello my name is John\n"
          ],
          "name": "stdout"
        }
      ]
    },
    {
      "cell_type": "markdown",
      "metadata": {
        "id": "6wb0G0n6xxmW"
      },
      "source": [
        "Delete Object"
      ]
    },
    {
      "cell_type": "code",
      "metadata": {
        "colab": {
          "base_uri": "https://localhost:8080/"
        },
        "id": "DrS_jOHZxwq1",
        "outputId": "32f192ad-e0a8-4d81-8953-ad9b41a3279a"
      },
      "source": [
        "p1.age = 60\n",
        "print(p1.age)"
      ],
      "execution_count": null,
      "outputs": [
        {
          "output_type": "stream",
          "text": [
            "36\n"
          ],
          "name": "stdout"
        }
      ]
    },
    {
      "cell_type": "code",
      "metadata": {
        "id": "T88CmZWjzjWa"
      },
      "source": [
        "#delete objects\n",
        "del p1.age"
      ],
      "execution_count": null,
      "outputs": []
    },
    {
      "cell_type": "code",
      "metadata": {
        "id": "Kb36MWGjzsWx"
      },
      "source": [
        "print(p1.age)"
      ],
      "execution_count": null,
      "outputs": []
    },
    {
      "cell_type": "markdown",
      "metadata": {
        "id": "hKE-f1ze0B8u"
      },
      "source": [
        "Empty class using pass"
      ]
    },
    {
      "cell_type": "code",
      "metadata": {
        "id": "o8sHjGAo0BRf"
      },
      "source": [
        "class myClass:\n",
        "  pass"
      ],
      "execution_count": null,
      "outputs": []
    },
    {
      "cell_type": "markdown",
      "metadata": {
        "id": "R0U2DHAK07Xl"
      },
      "source": [
        "Class Inher"
      ]
    },
    {
      "cell_type": "code",
      "metadata": {
        "colab": {
          "base_uri": "https://localhost:8080/"
        },
        "id": "FN93_sId0kmO",
        "outputId": "b62bef58-da99-4b1f-ac80-2baaa716f1a3"
      },
      "source": [
        "class Person:\n",
        "  def __init__(myobject, name, age):\n",
        "    myobject.name = name\n",
        "    myobject.age = age\n",
        "\n",
        "  def myfunc(abc):\n",
        "    print(\"Hello my name is \" + abc.name)\n",
        "\n",
        "class Employee(Person):\n",
        "  pass\n",
        "\n",
        "p1 = Employee(\"Sara\", 36)\n",
        "p1.myfunc()"
      ],
      "execution_count": null,
      "outputs": [
        {
          "output_type": "stream",
          "text": [
            "Hello my name is Sara\n"
          ],
          "name": "stdout"
        }
      ]
    },
    {
      "cell_type": "markdown",
      "metadata": {
        "id": "iF3H2_iT37_V"
      },
      "source": [
        "Tasks: \n",
        "#Exercise 1: Create a Human class with name and age instance attributes <b>\n",
        "#Exercise 2: Create a constructor and any function in Human class <b>\n",
        "#Exercise 3: Create a Human class without any variables and methods <b>\n",
        "#Exercise 4: Create a child class Employee that will inherit all of the variables and methods of the Human\n"
      ]
    }
  ]
}