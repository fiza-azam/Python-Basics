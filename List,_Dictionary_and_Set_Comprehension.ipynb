{
  "nbformat": 4,
  "nbformat_minor": 0,
  "metadata": {
    "colab": {
      "name": "List, Dictionary and Set Comprehension.ipynb",
      "provenance": [],
      "collapsed_sections": [],
      "toc_visible": true,
      "authorship_tag": "ABX9TyMGj+sUNbcHnLc2UxI5LAAL",
      "include_colab_link": true
    },
    "kernelspec": {
      "name": "python3",
      "display_name": "Python 3"
    },
    "language_info": {
      "name": "python"
    }
  },
  "cells": [
    {
      "cell_type": "markdown",
      "metadata": {
        "id": "view-in-github",
        "colab_type": "text"
      },
      "source": [
        "<a href=\"https://colab.research.google.com/github/fiza-azam/Python-Class/blob/main/List%2C_Dictionary_and_Set_Comprehension.ipynb\" target=\"_parent\"><img src=\"https://colab.research.google.com/assets/colab-badge.svg\" alt=\"Open In Colab\"/></a>"
      ]
    },
    {
      "cell_type": "markdown",
      "metadata": {
        "id": "XZYu3ZW2ekc0"
      },
      "source": [
        "#List Comprehension\n",
        "List comprehension provides a shorter syntax to perform operations on a list<br>\n",
        "Syntax:\n",
        "\n",
        "\n",
        "```\n",
        "newlist = [expression for item in iterable if condition == True]\n",
        "```\n",
        "Points to be noted:\n",
        "1. Conditional part of the List Comprehension is optional\n",
        "2. The condition part act as a filter that only accepts the items that valuate to True\n",
        "3. The iterable can be any iterable object, like a list, tuple, set etc.\n",
        "4. The expression part is the outcome, you can manipulate it before it saves result in a new list.\n"
      ]
    },
    {
      "cell_type": "markdown",
      "metadata": {
        "id": "N4Ewi_ALgY2G"
      },
      "source": [
        "<font color='#20a6d6'>Convert a given String to a list, each letter of the String should be saved as a sperate element in list</font>"
      ]
    },
    {
      "cell_type": "code",
      "metadata": {
        "id": "LjKYXuypeGXY"
      },
      "source": [
        "#Without List comprehension\n",
        "letters = []\n",
        "\n",
        "for letter in 'Hello':\n",
        "    letters.append(letter)\n",
        "\n",
        "print(letters)"
      ],
      "execution_count": null,
      "outputs": []
    },
    {
      "cell_type": "code",
      "metadata": {
        "colab": {
          "base_uri": "https://localhost:8080/"
        },
        "id": "UifDw1FWhIOs",
        "outputId": "711aacf2-291f-4b6f-ca33-ddfa7502de48"
      },
      "source": [
        "#With List Comprehension\n",
        "letters = [letter for letter in 'Hello']\n",
        "print(letters)"
      ],
      "execution_count": null,
      "outputs": [
        {
          "output_type": "stream",
          "text": [
            "['H', 'e', 'l', 'l', 'o']\n"
          ],
          "name": "stdout"
        }
      ]
    },
    {
      "cell_type": "code",
      "metadata": {
        "colab": {
          "base_uri": "https://localhost:8080/"
        },
        "id": "AjzMtzNfoVjc",
        "outputId": "ccae6e38-e28a-4915-e5ff-3122db7236c4"
      },
      "source": [
        "#Manipulating the output part\n",
        "letters = [letter.upper() for letter in 'Hello']\n",
        "print(letters)"
      ],
      "execution_count": null,
      "outputs": [
        {
          "output_type": "stream",
          "text": [
            "['H', 'E', 'L', 'L', 'O']\n"
          ],
          "name": "stdout"
        }
      ]
    },
    {
      "cell_type": "markdown",
      "metadata": {
        "id": "TjZf4194i0nh"
      },
      "source": [
        "<font color='#20a6d6'>Calculate the power of 2 for numbers in range 2-9</font>"
      ]
    },
    {
      "cell_type": "code",
      "metadata": {
        "colab": {
          "base_uri": "https://localhost:8080/"
        },
        "id": "N3-E_RTNjJEI",
        "outputId": "31319a05-26b9-4934-bb3f-e4671b08915b"
      },
      "source": [
        "print(3**2)\n",
        "PowerOfTwo = [x**2 for x in range(2,10)]\n",
        "print(PowerOfTwo)"
      ],
      "execution_count": null,
      "outputs": [
        {
          "output_type": "stream",
          "text": [
            "9\n",
            "[4, 9, 16, 25, 36, 49, 64, 81]\n"
          ],
          "name": "stdout"
        }
      ]
    },
    {
      "cell_type": "markdown",
      "metadata": {
        "id": "1IuV449FmeAJ"
      },
      "source": [
        "<font color='#20a6d6'>Create a list comprehension for all the values between 1-20 which are divisible by 2</font>"
      ]
    },
    {
      "cell_type": "code",
      "metadata": {
        "colab": {
          "base_uri": "https://localhost:8080/"
        },
        "id": "dpWI3EninHQ-",
        "outputId": "e54247a6-6bc1-42d5-88dd-0b73ea0ed6a1"
      },
      "source": [
        "DivByTwo = [x for x in range(1,21) if x%2 == 0]\n",
        "print(DivByTwo)"
      ],
      "execution_count": null,
      "outputs": [
        {
          "output_type": "stream",
          "text": [
            "[2, 4, 6, 8, 10, 12, 14, 16, 18, 20]\n"
          ],
          "name": "stdout"
        }
      ]
    },
    {
      "cell_type": "markdown",
      "metadata": {
        "id": "503alJ9GpCPp"
      },
      "source": [
        "<font color='#20a6d6'>If Else with List Comprehension</font>"
      ]
    },
    {
      "cell_type": "code",
      "metadata": {
        "colab": {
          "base_uri": "https://localhost:8080/"
        },
        "id": "u8-sZasRpLGv",
        "outputId": "436ad3d8-3450-41f8-bd95-f49a58015bbd"
      },
      "source": [
        "numbers = [\"Even\" if x%2 == 0 else \"Odd\" for x in range(1,21)]\n",
        "print(numbers)"
      ],
      "execution_count": null,
      "outputs": [
        {
          "output_type": "stream",
          "text": [
            "['Odd', 'Even', 'Odd', 'Even', 'Odd', 'Even', 'Odd', 'Even', 'Odd', 'Even', 'Odd', 'Even', 'Odd', 'Even', 'Odd', 'Even', 'Odd', 'Even', 'Odd', 'Even']\n"
          ],
          "name": "stdout"
        }
      ]
    },
    {
      "cell_type": "markdown",
      "metadata": {
        "id": "d-C_6xNPqWKH"
      },
      "source": [
        "<font color='#20a6d6'>List Comprehension using Tuple</font>"
      ]
    },
    {
      "cell_type": "code",
      "metadata": {
        "colab": {
          "base_uri": "https://localhost:8080/"
        },
        "id": "5YQjhXF8p6mv",
        "outputId": "4fe28789-7489-4053-cc54-5bf5bca42e2a"
      },
      "source": [
        "Mytuple = (1,2,4,5,6,7)\n",
        "m = [\"Even\" if x%2 == 0 else \"Odd\" for x in Mytuple]\n",
        "print(m)"
      ],
      "execution_count": null,
      "outputs": [
        {
          "output_type": "stream",
          "text": [
            "['Odd', 'Even', 'Even', 'Odd', 'Even', 'Odd']\n"
          ],
          "name": "stdout"
        }
      ]
    },
    {
      "cell_type": "markdown",
      "metadata": {
        "id": "DmCE8PQ98t9C"
      },
      "source": [
        "#<font color='#20a6d6'>List Comprehension on Files</font>"
      ]
    },
    {
      "cell_type": "code",
      "metadata": {
        "colab": {
          "base_uri": "https://localhost:8080/"
        },
        "id": "KpFxyQVA6swa",
        "outputId": "ffa15e7c-b0fc-4af6-bb55-f7608cc5a4a2"
      },
      "source": [
        "#Iterate Through Files\n",
        "import os\n",
        "\n",
        "# Open a file\n",
        "#For Pycharm use this path format: \"C:\\\\Users\\\\fiza\\\\PycharmProjects\\\\pythonProjectMy123\\\\My Package\"\n",
        "path = \"sample_data/\" \n",
        "dirs = os.listdir( path )\n",
        "\n",
        "\n",
        "# This would print all the files and directories\n",
        "for file in dirs:\n",
        "   print (file)"
      ],
      "execution_count": null,
      "outputs": [
        {
          "output_type": "stream",
          "text": [
            "README.md\n",
            "anscombe.json\n",
            "mnist_test.csv\n",
            "california_housing_test.csv\n",
            "california_housing_train.csv\n",
            "mnist_train_small.csv\n"
          ],
          "name": "stdout"
        }
      ]
    },
    {
      "cell_type": "code",
      "metadata": {
        "colab": {
          "base_uri": "https://localhost:8080/"
        },
        "id": "6tRyhQil9wbT",
        "outputId": "63ab14d6-bad8-4315-f56c-ef90b1be87b0"
      },
      "source": [
        "#Append File names in a list\n",
        "import os\n",
        "\n",
        "# Open a file\n",
        "path = \"sample_data/\"\n",
        "dirs = os.listdir( path )\n",
        "\n",
        "#Create a list files\n",
        "files = []\n",
        "\n",
        "# This would print all the files and directories\n",
        "for file in dirs:\n",
        "  if file.endswith('csv'):\n",
        "    files.append(file)\n",
        "\n",
        "print (files)"
      ],
      "execution_count": null,
      "outputs": [
        {
          "output_type": "stream",
          "text": [
            "['california_housing_test.csv', 'mnist_train_small.csv', 'california_housing_train.csv', 'mnist_test.csv']\n"
          ],
          "name": "stdout"
        }
      ]
    },
    {
      "cell_type": "code",
      "metadata": {
        "colab": {
          "base_uri": "https://localhost:8080/"
        },
        "id": "D-3XB_j6-oI4",
        "outputId": "9886ec0e-c84e-4eb7-a2e3-33076f3a69c7"
      },
      "source": [
        "#List Comprehension on Files\n",
        "import os\n",
        "\n",
        "path =  \"sample_data/\"\n",
        "dirs = os.listdir( path )\n",
        "\n",
        "files = [file for file in dirs if file.endswith('csv')]\n",
        "\n",
        "print(files)"
      ],
      "execution_count": null,
      "outputs": [
        {
          "output_type": "stream",
          "text": [
            "['mnist_test.csv', 'california_housing_test.csv', 'california_housing_train.csv', 'mnist_train_small.csv']\n"
          ],
          "name": "stdout"
        }
      ]
    },
    {
      "cell_type": "markdown",
      "metadata": {
        "id": "uBdirS47Fjtf"
      },
      "source": [
        "#<font color='#20a6d6'>Set Comprehension</font>"
      ]
    },
    {
      "cell_type": "code",
      "metadata": {
        "colab": {
          "base_uri": "https://localhost:8080/"
        },
        "id": "8K-fh9UaFti-",
        "outputId": "31b898a3-fcfd-493e-a7b8-21bf0dbde068"
      },
      "source": [
        "#Set does not returns duplicate values\n",
        "#Reuturn all names except duplicate entries and the entriess with single character\n",
        "setComp = [\"fiza\", \"J\", \"James\", \"sara\", \"Fiza\", 'ayesha']\n",
        "\n",
        "set1 = {x[0].upper()+x[1:].lower() for x in setComp if len(x) > 1}\n",
        "print(set1)"
      ],
      "execution_count": null,
      "outputs": [
        {
          "output_type": "stream",
          "text": [
            "{'Fiza', 'Ayesha', 'James', 'Sara'}\n"
          ],
          "name": "stdout"
        }
      ]
    },
    {
      "cell_type": "markdown",
      "metadata": {
        "id": "JdSXWR_WHbSE"
      },
      "source": [
        "#<font color='#20a6d6'>Dictionary Comprehension</font>\n",
        "syntax\n",
        "\n",
        "```\n",
        "dictionary = {key: value for vars in iterable}\n",
        "```\n",
        "\n"
      ]
    },
    {
      "cell_type": "code",
      "metadata": {
        "colab": {
          "base_uri": "https://localhost:8080/"
        },
        "id": "RovunNXrI1Xo",
        "outputId": "bf83427b-c1d9-4dcf-d28f-2bc80462e629"
      },
      "source": [
        "original_dict = {'jack': 38, 'michael': 48, 'sam': 57, 'john': 33}\n",
        "\n",
        "even_dict = {k: v for (k, v) in original_dict.items() if v % 2 == 0}\n",
        "print(even_dict)"
      ],
      "execution_count": null,
      "outputs": [
        {
          "output_type": "stream",
          "text": [
            "{'jack': 38, 'michael': 48}\n"
          ],
          "name": "stdout"
        }
      ]
    },
    {
      "cell_type": "markdown",
      "metadata": {
        "id": "l0-KALGUrPzd"
      },
      "source": [
        "#Tasks\n",
        "Task no.1: A code with its output is given\n",
        "```\n",
        "DivByTwo = [x for x in range(1,21) if x%2 == 0]\n",
        "print(DivByTwo)\n",
        "```\n",
        "Output: [2, 4, 6, 8, 10, 12, 14, 16, 18, 20] <br>\n",
        "\n",
        "Modify the above code in such a manner that it generates the following output <br>\n",
        "Expected Output: [4, 8, 12, 16, 20, 24, 28, 32, 36, 40] <br>\n",
        "<br>\n",
        "Task no.2: From a given list [1, 2, 'a', 5, 'b', 'c', 10] filter integers and save it in a new list using List Comprehension <br>\n",
        "<br>\n",
        "Task no.3: Get The second column of the matrix = [ [1,2,3], [4,5,6], [7,8,9] ] <br>\n",
        "Expected Output: [2 ,5, 8] <br><br>\n",
        "Task no.4: Write a Python program to save the names of all text files of any directory in a list using List Comprehension <br><br>\n",
        "Task no.5: Write code for  dictionary comprehension and use {'JACK': 38, 'michael': 48, 'SAM': 57, 'john': 33} dictionary. the code must return the following output<br>\n",
        "Expected Output: {'JACK': 38, 'SAM': 57}\n"
      ]
    }
  ]
}