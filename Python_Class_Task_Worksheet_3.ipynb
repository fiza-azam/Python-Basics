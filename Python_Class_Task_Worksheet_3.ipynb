{
  "nbformat": 4,
  "nbformat_minor": 0,
  "metadata": {
    "colab": {
      "name": "Python Class Task Worksheet 3.ipynb",
      "provenance": [],
      "collapsed_sections": [],
      "authorship_tag": "ABX9TyNuZjFfJnqDBa5u45t3nkWl",
      "include_colab_link": true
    },
    "kernelspec": {
      "name": "python3",
      "display_name": "Python 3"
    },
    "language_info": {
      "name": "python"
    }
  },
  "cells": [
    {
      "cell_type": "markdown",
      "metadata": {
        "id": "view-in-github",
        "colab_type": "text"
      },
      "source": [
        "<a href=\"https://colab.research.google.com/github/fiza-azam/Python-Class/blob/main/Python_Class_Task_Worksheet_3.ipynb\" target=\"_parent\"><img src=\"https://colab.research.google.com/assets/colab-badge.svg\" alt=\"Open In Colab\"/></a>"
      ]
    },
    {
      "cell_type": "markdown",
      "metadata": {
        "id": "KUVo6fueG7j4"
      },
      "source": [
        "Task No. 1: Write a Python progam to print a docstring"
      ]
    },
    {
      "cell_type": "code",
      "metadata": {
        "colab": {
          "base_uri": "https://localhost:8080/"
        },
        "id": "1PC4rR27IL2t",
        "outputId": "694c5d64-0244-48e0-f28e-75f84fe69c58"
      },
      "source": [
        "def myFunction():\n",
        "  \"\"\"\n",
        "  Hello\n",
        "  World \n",
        "  \"\"\"\n",
        "print(myFunction.__doc__)"
      ],
      "execution_count": null,
      "outputs": [
        {
          "output_type": "stream",
          "text": [
            "\n",
            "  Hello\n",
            "  World \n",
            "  \n"
          ],
          "name": "stdout"
        }
      ]
    },
    {
      "cell_type": "markdown",
      "metadata": {
        "id": "F77EwYa5HL3o"
      },
      "source": [
        "Task No. 2: Ceate a calculator program using functions"
      ]
    },
    {
      "cell_type": "code",
      "metadata": {
        "id": "j5Ot_LijIsDl",
        "colab": {
          "base_uri": "https://localhost:8080/"
        },
        "outputId": "e644b058-dbfc-43d9-c5ac-f93248482a91"
      },
      "source": [
        "def sum(x,y):\n",
        "  return x+y\n",
        "\n",
        "def mult(x,y):\n",
        "  return x*y\n",
        "\n",
        "def div(x,y):\n",
        "  return x/y\n",
        "\n",
        "def sub(x,y):\n",
        "  return x-y\n",
        "\n",
        "x = True\n",
        "while x == True:\n",
        "\n",
        "  num1 = int(input(\"Insert first number: \"))\n",
        "  num2 = int(input(\"Insert second number: \"))\n",
        "  operator = input(\"Insert operation you want to perform: \")\n",
        "\n",
        "  if(operator == \"+\"):\n",
        "    print(sum(num1, num2))\n",
        "  elif(operator == \"*\"):\n",
        "    print(mult(num1, num2))\n",
        "  elif(operator == \"/\"):\n",
        "    print(div(num1, num2)) \n",
        "  else:\n",
        "    print(sub(num1, num2))\n",
        "\n",
        "  print(\"Do you want to perform another calculation?\")\n",
        "  ans = input(\"Press x for Yes and y for no: \")\n",
        "  if ans == \"y\":\n",
        "    x=False\n"
      ],
      "execution_count": 4,
      "outputs": [
        {
          "output_type": "stream",
          "text": [
            "Insert first number: 2\n",
            "Insert second number: 3\n",
            "Insert operation you want to perform+\n",
            "5\n",
            "Do you want to perform another calculation?\n",
            "Press x for Yes and y for no: x\n",
            "Insert first number: 4\n",
            "Insert second number: 2\n",
            "Insert operation you want to perform/\n",
            "2.0\n",
            "Do you want to perform another calculation?\n",
            "Press x for Yes and y for no: x\n",
            "Insert first number: 3\n",
            "Insert second number: 2\n",
            "Insert operation you want to perform-\n",
            "1\n",
            "Do you want to perform another calculation?\n",
            "Press x for Yes and y for no: x\n",
            "Insert first number: 3\n",
            "Insert second number: 2\n",
            "Insert operation you want to perform*\n",
            "6\n",
            "Do you want to perform another calculation?\n",
            "Press x for Yes and y for no: y\n"
          ],
          "name": "stdout"
        }
      ]
    },
    {
      "cell_type": "markdown",
      "metadata": {
        "id": "5virKsyOHW_H"
      },
      "source": [
        "Task No. 3: Write a Python pogram which accepts a list of numbers and return the sum of its element"
      ]
    },
    {
      "cell_type": "code",
      "metadata": {
        "id": "antwCr6uIvkr",
        "colab": {
          "base_uri": "https://localhost:8080/"
        },
        "outputId": "0185b73b-6bcb-4f19-e5f4-d43a93497930"
      },
      "source": [
        "list1 = []\n",
        "\n",
        "a = int(input(\"Insert length of a list: \"))\n",
        "for i in range (0, a):\n",
        "  k = int(input(\"Insert a number: \"))\n",
        "  list1.append(k)\n",
        "#print(list1)\n",
        "\n",
        "def sumList(list2):\n",
        "  sum = 0\n",
        "  for x in list2:\n",
        "    sum = sum + x\n",
        "  return sum\n",
        "\n",
        "print(sumList(list1))"
      ],
      "execution_count": 12,
      "outputs": [
        {
          "output_type": "stream",
          "text": [
            "Insert length of a list: 3\n",
            "Insert a number: 1\n",
            "Insert a number: 2\n",
            "Insert a number: 3\n",
            "6\n"
          ],
          "name": "stdout"
        }
      ]
    },
    {
      "cell_type": "markdown",
      "metadata": {
        "id": "piBzdyRUHjE-"
      },
      "source": [
        "Task No. 4: Write a Python program to return an absolute value."
      ]
    },
    {
      "cell_type": "code",
      "metadata": {
        "id": "pUIMw_tzIwo0",
        "colab": {
          "base_uri": "https://localhost:8080/"
        },
        "outputId": "d14ff72b-7638-481c-8c9c-a60d45a46cc4"
      },
      "source": [
        "val = int(input(\"insert number: \"))\n",
        "\n",
        "def absVal(val1):\n",
        "  if val1 >= 0:\n",
        "    return val1\n",
        "  else:\n",
        "    return -val1\n",
        "    \n",
        "print(absVal(val))      "
      ],
      "execution_count": 14,
      "outputs": [
        {
          "output_type": "stream",
          "text": [
            "insert number: 2\n",
            "2\n"
          ],
          "name": "stdout"
        }
      ]
    },
    {
      "cell_type": "markdown",
      "metadata": {
        "id": "AHdpFwlAIAgt"
      },
      "source": [
        "Task No. 5: Use Python function to develop a pogram that accepts a number as an input and returns its factorial (use recursion)"
      ]
    },
    {
      "cell_type": "code",
      "metadata": {
        "id": "jUQ3tIfBHrtn",
        "colab": {
          "base_uri": "https://localhost:8080/"
        },
        "outputId": "5f41b06d-36b0-4ddd-aa51-6580205c4eb8"
      },
      "source": [
        "fval = int(input(\"insert number: \"))\n",
        "\n",
        "def fact(n):\n",
        "  if n == 1:\n",
        "    return 1\n",
        "  n = n*fact(n-1)\n",
        "  return n\n",
        "\n",
        "print(fact(fval))\n"
      ],
      "execution_count": 16,
      "outputs": [
        {
          "output_type": "stream",
          "text": [
            "insert number: 4\n",
            "24\n"
          ],
          "name": "stdout"
        }
      ]
    },
    {
      "cell_type": "markdown",
      "metadata": {
        "id": "M8rOq-G6yeBb"
      },
      "source": [
        "Task No. 6: Write a Python program that accepts a string and calculates the number of upper-case and lower-case letters"
      ]
    },
    {
      "cell_type": "code",
      "metadata": {
        "id": "l9kbDnRGG64x",
        "colab": {
          "base_uri": "https://localhost:8080/"
        },
        "outputId": "0515f6f5-b7d8-4d63-b5b1-cf66c16874d4"
      },
      "source": [
        "str1 = input(\"insert string: \")\n",
        "\n",
        "def case(myStr):\n",
        "  countU = 0\n",
        "  countL = 0\n",
        "  for x in myStr:\n",
        "    if(x.islower()):\n",
        "      countL = countL + 1\n",
        "    else:\n",
        "      countU = countU + 1\n",
        "  print(\"Upper-case letters\", countU)\n",
        "  print(\"Lower-case letters\", countL)  \n",
        "\n",
        "case(str1)    "
      ],
      "execution_count": 27,
      "outputs": [
        {
          "output_type": "stream",
          "text": [
            "insert string: sTrInG\n",
            "Upper-case letters 3\n",
            "Lower-case letters 3\n"
          ],
          "name": "stdout"
        }
      ]
    },
    {
      "cell_type": "markdown",
      "metadata": {
        "id": "-empiHjKyfR3"
      },
      "source": [
        "Task No.7: Write a Python program to check if a given key already exists in a dictionary"
      ]
    },
    {
      "cell_type": "code",
      "metadata": {
        "id": "eZw5qFEaGzLo",
        "colab": {
          "base_uri": "https://localhost:8080/"
        },
        "outputId": "9059cefc-2d69-4b70-b228-7df9d90f0530"
      },
      "source": [
        "dict1 = {\"A\":\"Apple\", \"B\":\"Ball\", \"C\":\"Cat\"}\n",
        "\n",
        "def search(key):\n",
        "  if key in dict1:\n",
        "    print(\"key exists\", dict1[key])\n",
        "  else: \n",
        "    print(\"key does not exists\")\n",
        "\n",
        "search(\"A\")      "
      ],
      "execution_count": 23,
      "outputs": [
        {
          "output_type": "stream",
          "text": [
            "key exists Apple\n"
          ],
          "name": "stdout"
        }
      ]
    },
    {
      "cell_type": "markdown",
      "metadata": {
        "id": "eLitMU9AzTtW"
      },
      "source": [
        "Task No. 8: Create a function showEmployee() in such a way that is should accept employee name, and salary and display both. If the salary is missing in the function call assign default value 9000 to salary"
      ]
    },
    {
      "cell_type": "code",
      "metadata": {
        "id": "LSDORF_Zzq-j",
        "colab": {
          "base_uri": "https://localhost:8080/"
        },
        "outputId": "c52f061f-7735-45b1-be45-96ff7a155f82"
      },
      "source": [
        "def showEmployee(name, salary=9000):\n",
        "  print(\"Employee:\", name, \" Salary: \", salary)\n",
        "\n",
        "showEmployee(\"Ayesha\", 5000)\n",
        "showEmployee(\"Mariam\")"
      ],
      "execution_count": 26,
      "outputs": [
        {
          "output_type": "stream",
          "text": [
            "Employee: Ayesha  Salary:  5000\n",
            "Employee: Mariam  Salary:  9000\n"
          ],
          "name": "stdout"
        }
      ]
    }
  ]
}