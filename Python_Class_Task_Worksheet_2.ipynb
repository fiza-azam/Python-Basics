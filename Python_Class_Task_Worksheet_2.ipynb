{
  "nbformat": 4,
  "nbformat_minor": 0,
  "metadata": {
    "colab": {
      "name": "Python Class Task Worksheet 2.ipynb",
      "provenance": [],
      "authorship_tag": "ABX9TyONLQBsRXfBuiFXbg1qEZke",
      "include_colab_link": true
    },
    "kernelspec": {
      "name": "python3",
      "display_name": "Python 3"
    },
    "language_info": {
      "name": "python"
    }
  },
  "cells": [
    {
      "cell_type": "markdown",
      "metadata": {
        "id": "view-in-github",
        "colab_type": "text"
      },
      "source": [
        "<a href=\"https://colab.research.google.com/github/fiza-azam/Python-Class/blob/main/Python_Class_Task_Worksheet_2.ipynb\" target=\"_parent\"><img src=\"https://colab.research.google.com/assets/colab-badge.svg\" alt=\"Open In Colab\"/></a>"
      ]
    },
    {
      "cell_type": "markdown",
      "metadata": {
        "id": "p8iVgGsU_eEr"
      },
      "source": [
        "Task no.1: Write a Python program which accepts the radius of a circle from the user and compute the area."
      ]
    },
    {
      "cell_type": "code",
      "metadata": {
        "colab": {
          "base_uri": "https://localhost:8080/"
        },
        "id": "FYIhS_Nj_cZ6",
        "outputId": "7c4e2646-a9d1-4fde-abfc-73c2029b0e6e"
      },
      "source": [
        "import math\n",
        "r = int(input(\"insert Radius: \"))\n",
        "Area = math.pi*r*r\n",
        "print(\"Area of a circle is\", Area)"
      ],
      "execution_count": null,
      "outputs": [
        {
          "output_type": "stream",
          "text": [
            "insert Radius: 2\n",
            "Area of a circle is 12.566370614359172\n"
          ],
          "name": "stdout"
        }
      ]
    },
    {
      "cell_type": "markdown",
      "metadata": {
        "id": "t5B2FOyK_nHq"
      },
      "source": [
        "Task no.2: Write a Python program to guess a number between 1 to 9. Hint (use Radom method to randomly generate numbers)."
      ]
    },
    {
      "cell_type": "code",
      "metadata": {
        "colab": {
          "base_uri": "https://localhost:8080/"
        },
        "id": "jD52eatG_rg0",
        "outputId": "3bd293fd-3468-4656-f38c-2d7d6ca6305e"
      },
      "source": [
        "import random\n",
        "insert = int(input(\"Guess a number between 1 to 9:\"))\n",
        "myList = [1,2,3,4,5,6,7,8,9]\n",
        "num = random.choice(myList)\n",
        "while num != insert:\n",
        "    print(\"Try again\")\n",
        "    insert = int(input(\"Guess a number between 1 to 9:\"))\n",
        "print(\"You guessed\", num, \"right!\")"
      ],
      "execution_count": null,
      "outputs": [
        {
          "output_type": "stream",
          "text": [
            "Guess a number between 1 to 9:2\n",
            "Try again\n",
            "Guess a number between 1 to 9:2\n",
            "Try again\n",
            "Guess a number between 1 to 9:3\n",
            "Try again\n",
            "Guess a number between 1 to 9:5\n",
            "You guessed 5 right!\n"
          ],
          "name": "stdout"
        }
      ]
    },
    {
      "cell_type": "markdown",
      "metadata": {
        "id": "LqGey2w__0li"
      },
      "source": [
        "Task no.3: Write a Python program that accepts a word from the user and reverse it."
      ]
    },
    {
      "cell_type": "code",
      "metadata": {
        "colab": {
          "base_uri": "https://localhost:8080/"
        },
        "id": "dqZnwEVA_2vP",
        "outputId": "1fa69fca-103d-4f86-dc6d-8432cbc34acd"
      },
      "source": [
        "myList = input(\"Enter a word: \")\n",
        "word = \"\"\n",
        "for x in range(len(myList), 0, -1):\n",
        "    word = word+myList[x-1]\n",
        "print(word)"
      ],
      "execution_count": null,
      "outputs": [
        {
          "output_type": "stream",
          "text": [
            "Enter a word: aptech\n",
            "hcetpa\n"
          ],
          "name": "stdout"
        }
      ]
    },
    {
      "cell_type": "markdown",
      "metadata": {
        "id": "jtuW4XinCcrB"
      },
      "source": [
        "Task no.4: Write a Python program that prints all the numbers from 0 to 6 except 3 and 6. Note: Use 'continue' statement."
      ]
    },
    {
      "cell_type": "code",
      "metadata": {
        "colab": {
          "base_uri": "https://localhost:8080/"
        },
        "id": "HgEgSXMhDGgQ",
        "outputId": "af18d8fd-d816-4e4f-8a30-6548020f43fe"
      },
      "source": [
        "for x in range(0,6):\n",
        "  if x==3:\n",
        "    continue\n",
        "  elif x==6:\n",
        "    continue\n",
        "  else:\n",
        "    print(x)\n"
      ],
      "execution_count": null,
      "outputs": [
        {
          "output_type": "stream",
          "text": [
            "0\n",
            "1\n",
            "2\n",
            "4\n",
            "5\n"
          ],
          "name": "stdout"
        }
      ]
    },
    {
      "cell_type": "markdown",
      "metadata": {
        "id": "tifooWCcDEsv"
      },
      "source": [
        "Task no.5: Write a Python program which iterates the integers from 1 to 50. For multiples of three print “Multiple of 3\" instead of the number and for the multiples of five print “Multiple of 5\". For numbers which are multiples of both three and five print “Multiple of both 3 & 5\"."
      ]
    },
    {
      "cell_type": "code",
      "metadata": {
        "colab": {
          "base_uri": "https://localhost:8080/"
        },
        "id": "xYTUSMPbCf-o",
        "outputId": "fec3ce91-8529-47c5-852f-fe4512c6bf10"
      },
      "source": [
        "for x in range(1, 51):\n",
        "  if x%3 == 0 and x%5 == 0:\n",
        "    print(x, \"is multiple of 3 and 5\")\n",
        "  elif x%3 == 0:\n",
        "    print(x, \"is multiple of 3\")\n",
        "  elif x%5 == 0:\n",
        "    print(x, \"is multiple of 5\")\n",
        "  else:\n",
        "    print(x)"
      ],
      "execution_count": null,
      "outputs": [
        {
          "output_type": "stream",
          "text": [
            "1\n",
            "2\n",
            "3 is multiple of 3\n",
            "4\n",
            "5 is multiple of 5\n",
            "6 is multiple of 3\n",
            "7\n",
            "8\n",
            "9 is multiple of 3\n",
            "10 is multiple of 5\n",
            "11\n",
            "12 is multiple of 3\n",
            "13\n",
            "14\n",
            "15 is multiple of 3 and 5\n",
            "16\n",
            "17\n",
            "18 is multiple of 3\n",
            "19\n",
            "20 is multiple of 5\n",
            "21 is multiple of 3\n",
            "22\n",
            "23\n",
            "24 is multiple of 3\n",
            "25 is multiple of 5\n",
            "26\n",
            "27 is multiple of 3\n",
            "28\n",
            "29\n",
            "30 is multiple of 3 and 5\n",
            "31\n",
            "32\n",
            "33 is multiple of 3\n",
            "34\n",
            "35 is multiple of 5\n",
            "36 is multiple of 3\n",
            "37\n",
            "38\n",
            "39 is multiple of 3\n",
            "40 is multiple of 5\n",
            "41\n",
            "42 is multiple of 3\n",
            "43\n",
            "44\n",
            "45 is multiple of 3 and 5\n",
            "46\n",
            "47\n",
            "48 is multiple of 3\n",
            "49\n",
            "50 is multiple of 5\n"
          ],
          "name": "stdout"
        }
      ]
    },
    {
      "cell_type": "markdown",
      "metadata": {
        "id": "urXqxGZGDv1y"
      },
      "source": [
        "Task no.6: Write a Python program to check whether an alphabet is a vowel or consonant."
      ]
    },
    {
      "cell_type": "code",
      "metadata": {
        "colab": {
          "base_uri": "https://localhost:8080/"
        },
        "id": "pfa-9yRiDysk",
        "outputId": "41e67e6d-f629-4bae-b2d0-2550f41c56d7"
      },
      "source": [
        "vowel = ['a','e','i','o','u']\n",
        "alphabet = input(\"Insert alphabet: \")\n",
        "\n",
        "if(alphabet in vowel):\n",
        "  print(alphabet, \"is vowel\")\n",
        "else:\n",
        "  print(alphabet, \" is consonant\")"
      ],
      "execution_count": null,
      "outputs": [
        {
          "output_type": "stream",
          "text": [
            "Insert alphabet: a\n",
            "a is vowel\n"
          ],
          "name": "stdout"
        }
      ]
    },
    {
      "cell_type": "markdown",
      "metadata": {
        "id": "hvSO7LbQEa98"
      },
      "source": [
        "Task no.7: Write a marksheet and display marks obtained, percentage and grade."
      ]
    },
    {
      "cell_type": "code",
      "metadata": {
        "colab": {
          "base_uri": "https://localhost:8080/"
        },
        "id": "3fueUrwBEdlI",
        "outputId": "1c048e8e-36b3-4ba1-f176-5fbecc556341"
      },
      "source": [
        "while True:\n",
        "  a = int(input(\"Insert Marks of Subj1: \"))\n",
        "  b = int(input(\"Insert Marks of Subj2: \"))\n",
        "  c = int(input(\"Insert Marks of Subj3: \"))\n",
        "  d = int(input(\"Insert Marks of Subj4: \"))\n",
        "  e = int(input(\"Insert Marks of Subj5: \"))\n",
        "\n",
        "  total = a+b+c+d+e\n",
        "  percent = (total/500)*100\n",
        "  str = \"\"\n",
        "\n",
        "  if(percent>=90):\n",
        "    str = \"A1\"\n",
        "  elif(percent < 90 and percent >= 80):\n",
        "    str = \"A\"\n",
        "  elif(percent < 80 and percent >= 70):\n",
        "    str = \"B\"\n",
        "  elif(percent < 70 and percent >= 60):\n",
        "    str = \"C\"\n",
        "  else:\n",
        "    str = \"F\"\n",
        "\n",
        "  print(\"Total marks:\",total)\n",
        "  print(\"Percentage\", percent)\n",
        "  print(\"Grade\", str)\n",
        "\n",
        "  ans = input(\"press x for exit or y for next mark sheet:\")\n",
        "  if(ans == 'x'):\n",
        "    break\n"
      ],
      "execution_count": null,
      "outputs": [
        {
          "output_type": "stream",
          "text": [
            "Insert Marks of Subj1: 60\n",
            "Insert Marks of Subj2: 70\n",
            "Insert Marks of Subj3: 80\n",
            "Insert Marks of Subj4: 85\n",
            "Insert Marks of Subj5: 90\n",
            "Total marks: 385\n",
            "Percentage 77.0\n",
            "Grade B\n",
            "press x for exit or y for next mark sheet:x\n"
          ],
          "name": "stdout"
        }
      ]
    },
    {
      "cell_type": "markdown",
      "metadata": {
        "id": "x22caFFhIRcm"
      },
      "source": [
        "Task No.8: Write a program for table."
      ]
    },
    {
      "cell_type": "code",
      "metadata": {
        "colab": {
          "base_uri": "https://localhost:8080/"
        },
        "id": "ETc7LaY6G_wH",
        "outputId": "18057ab0-ba23-4508-e778-48544f1bd49e"
      },
      "source": [
        "num = int(input(\"Insert Number: \"))\n",
        "for x in range (1, 11):\n",
        "  print(num, \"*\", x, \"=\", num*x)"
      ],
      "execution_count": null,
      "outputs": [
        {
          "output_type": "stream",
          "text": [
            "Insert Number: 7\n",
            "7 * 1 = 7\n",
            "7 * 2 = 14\n",
            "7 * 3 = 21\n",
            "7 * 4 = 28\n",
            "7 * 5 = 35\n",
            "7 * 6 = 42\n",
            "7 * 7 = 49\n",
            "7 * 8 = 56\n",
            "7 * 9 = 63\n",
            "7 * 10 = 70\n"
          ],
          "name": "stdout"
        }
      ]
    },
    {
      "cell_type": "markdown",
      "metadata": {
        "id": "ooWEvp2QIqrf"
      },
      "source": [
        "Task no.9: Write a Python program to convert temperatures to and from Celsius, Fahrenheit."
      ]
    },
    {
      "cell_type": "code",
      "metadata": {
        "colab": {
          "base_uri": "https://localhost:8080/"
        },
        "id": "fG-gmco4ItD2",
        "outputId": "b3c485d7-6b08-44d4-999d-2f5b7e3b55ad"
      },
      "source": [
        "str = input(\"Enter Temperature in Celsius or Fahrenheit: \")\n",
        "\n",
        "#Get unit C or F\n",
        "check = str[len(str)-1]\n",
        "\n",
        "length = len(str)-1\n",
        "temp = \"\"\n",
        "\n",
        "#Get numeric value of temperature\n",
        "for x in range(0, length):\n",
        "  temp = temp+str[x]\n",
        "\n",
        "#Convert numeric value to type int\n",
        "tempInt = int(temp)\n",
        "\n",
        "if check.upper() == \"C\":\n",
        "  result = int(round((9*tempInt) / 5 + 32))\n",
        "  print(\"Temperature\", result,\"F\")\n",
        "elif check.upper() == \"F\":\n",
        "  result = int(round((tempInt - 32) * 5 / 9))\n",
        "  print(\"Temperature\", result,\"C\")\n",
        "else:\n",
        "  print(\"Invalid value\")"
      ],
      "execution_count": null,
      "outputs": [
        {
          "output_type": "stream",
          "text": [
            "Enter Temperature in Celsius or Fahrenheit: 32f\n",
            "Temperature 0 C\n"
          ],
          "name": "stdout"
        }
      ]
    }
  ]
}
