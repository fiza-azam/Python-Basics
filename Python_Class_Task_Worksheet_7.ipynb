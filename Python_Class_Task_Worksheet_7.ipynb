{
  "nbformat": 4,
  "nbformat_minor": 0,
  "metadata": {
    "colab": {
      "name": "Python_Class_Task_Worksheet_7.ipynb",
      "provenance": [],
      "collapsed_sections": [],
      "authorship_tag": "ABX9TyP7HmOpy23UuQ4ABcwVlRhl",
      "include_colab_link": true
    },
    "kernelspec": {
      "name": "python3",
      "display_name": "Python 3"
    },
    "language_info": {
      "name": "python"
    }
  },
  "cells": [
    {
      "cell_type": "markdown",
      "metadata": {
        "id": "view-in-github",
        "colab_type": "text"
      },
      "source": [
        "<a href=\"https://colab.research.google.com/github/fiza-azam/Python-Class/blob/main/Python_Class_Task_Worksheet_7.ipynb\" target=\"_parent\"><img src=\"https://colab.research.google.com/assets/colab-badge.svg\" alt=\"Open In Colab\"/></a>"
      ]
    },
    {
      "cell_type": "markdown",
      "metadata": {
        "id": "VbqhZpA41YGe"
      },
      "source": [
        "Task no.1: A code with its output is given\n",
        "```\n",
        "DivByTwo = [x for x in range(1,21) if x%2 == 0]\n",
        "print(DivByTwo)\n",
        "```\n",
        "Output: [2, 4, 6, 8, 10, 12, 14, 16, 18, 20] <br>\n",
        "\n",
        "Modify the above code in such a manner that it generates the following output <br>\n",
        "Expected Output: [4, 8, 12, 16, 20, 24, 28, 32, 36, 40] <br>\n",
        "\n",
        "\n"
      ]
    },
    {
      "cell_type": "code",
      "metadata": {
        "colab": {
          "base_uri": "https://localhost:8080/"
        },
        "id": "tuXin7ARypw6",
        "outputId": "492477a4-e65d-4a51-966e-635f45ee6012"
      },
      "source": [
        "DivByTwo = [x*2 for x in range(1,21) if x%2 == 0]\n",
        "print(DivByTwo)"
      ],
      "execution_count": null,
      "outputs": [
        {
          "output_type": "stream",
          "text": [
            "[4, 8, 12, 16, 20, 24, 28, 32, 36, 40]\n"
          ],
          "name": "stdout"
        }
      ]
    },
    {
      "cell_type": "markdown",
      "metadata": {
        "id": "_4yixn6i1oy9"
      },
      "source": [
        "Task no.2: From a given list [1, 2, 'a', 5, 'b', 'c', 10] filter integers and save it in a new list using List Comprehension"
      ]
    },
    {
      "cell_type": "code",
      "metadata": {
        "colab": {
          "base_uri": "https://localhost:8080/"
        },
        "id": "mDP7ehpa2MeT",
        "outputId": "3661a2ca-81b2-4ba7-e4c7-88125bf76901"
      },
      "source": [
        "list1 = [1, 2, 'a', 5, 'b', 'c', 10]\n",
        "integers = [x for x in list1 if type(x) == int]\n",
        "print(integers)"
      ],
      "execution_count": null,
      "outputs": [
        {
          "output_type": "stream",
          "text": [
            "[1, 2, 5, 10]\n"
          ],
          "name": "stdout"
        }
      ]
    },
    {
      "cell_type": "markdown",
      "metadata": {
        "id": "4aj1obON4Jgm"
      },
      "source": [
        "Task no.3: Get The second column of the matrix = [ [1,2,3], [4,5,6], [7,8,9] ] <br>"
      ]
    },
    {
      "cell_type": "code",
      "metadata": {
        "colab": {
          "base_uri": "https://localhost:8080/"
        },
        "id": "np1vvn3P4QvV",
        "outputId": "abdf4c12-6ff6-423f-cef0-ae3efb5e8a4f"
      },
      "source": [
        "matrix = [[1,2,3], [4,5,6], [7,8,9]] \n",
        "#col2 = [matrix[x][1] for x in range(0,3)] #way 1\n",
        "col2 = [row[1] for row in matrix] #way 2\n",
        "print(col2)"
      ],
      "execution_count": null,
      "outputs": [
        {
          "output_type": "stream",
          "text": [
            "[2, 5, 8]\n"
          ],
          "name": "stdout"
        }
      ]
    },
    {
      "cell_type": "markdown",
      "metadata": {
        "id": "X-wHhiAELMgo"
      },
      "source": [
        "Task no.5: Write code for  dictionary comprehension and use {'JACK': 38, 'michael': 48, 'SAM': 57, 'john': 33} dictionary. the code must return the following output<br>\n",
        "Output: {'JACK': 38, 'SAM': 57}\n"
      ]
    },
    {
      "cell_type": "code",
      "metadata": {
        "id": "vBpluG4gK8iJ",
        "colab": {
          "base_uri": "https://localhost:8080/"
        },
        "outputId": "48caba79-eb32-4579-e025-d416db515bcd"
      },
      "source": [
        "original_dict = {'JACK': 38, 'michael': 48, 'SAM': 57, 'john': 33}\n",
        "\n",
        "new_dict = {k:v for (k,v) in original_dict.items() if k.isupper()} \n",
        "print(new_dict)"
      ],
      "execution_count": 1,
      "outputs": [
        {
          "output_type": "stream",
          "text": [
            "{'JACK': 38, 'SAM': 57}\n"
          ],
          "name": "stdout"
        }
      ]
    }
  ]
}