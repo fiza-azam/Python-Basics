{
  "nbformat": 4,
  "nbformat_minor": 0,
  "metadata": {
    "colab": {
      "name": "Python Class Task Worksheet 5.ipynb",
      "provenance": [],
      "collapsed_sections": [],
      "authorship_tag": "ABX9TyMh6t5uSMWXK1qA3iaSTKtO",
      "include_colab_link": true
    },
    "kernelspec": {
      "name": "python3",
      "display_name": "Python 3"
    },
    "language_info": {
      "name": "python"
    }
  },
  "cells": [
    {
      "cell_type": "markdown",
      "metadata": {
        "id": "view-in-github",
        "colab_type": "text"
      },
      "source": [
        "<a href=\"https://colab.research.google.com/github/fiza-azam/Python-Class/blob/main/Python_Class_Task_Worksheet_5.ipynb\" target=\"_parent\"><img src=\"https://colab.research.google.com/assets/colab-badge.svg\" alt=\"Open In Colab\"/></a>"
      ]
    },
    {
      "cell_type": "markdown",
      "metadata": {
        "id": "ZMBcc-m-BaeU"
      },
      "source": [
        "Task no. 1: Use \"map\" built in funtion with lambda function\n"
      ]
    },
    {
      "cell_type": "markdown",
      "metadata": {
        "id": "4cGkB0hSFIiQ"
      },
      "source": [
        "Explanation <br>\n",
        "\n",
        "\n",
        "```\n",
        "#The map() function executes a specified function for each item in an iterable\n",
        "#map with simple function\n",
        "def multBy2(n):\n",
        "  return n*2\n",
        "\n",
        "y = map(multBy2, [1,2,3,4])\n",
        "\n",
        "#Type casting\n",
        "#print(type(y))\n",
        "print(list(y))\n",
        "```\n",
        "\n"
      ]
    },
    {
      "cell_type": "code",
      "metadata": {
        "colab": {
          "base_uri": "https://localhost:8080/"
        },
        "id": "2RLH_7qFA9V6",
        "outputId": "d0254353-9561-4312-863d-1800844ae4c0"
      },
      "source": [
        "#Syntax of lambda function\n",
        "#lambda arguments : expression\n",
        "\n",
        "x = map(lambda x : x*2, [1,2,3,4])\n",
        "print(list(x))"
      ],
      "execution_count": 9,
      "outputs": [
        {
          "output_type": "stream",
          "text": [
            "[2, 4, 6, 8]\n"
          ],
          "name": "stdout"
        }
      ]
    },
    {
      "cell_type": "markdown",
      "metadata": {
        "id": "sjPW2ft5Ekk4"
      },
      "source": [
        "Task no.2: Create any python program to show the working of Local and Global variables\n",
        " "
      ]
    },
    {
      "cell_type": "code",
      "metadata": {
        "colab": {
          "base_uri": "https://localhost:8080/"
        },
        "id": "VS7HhW7GE1jP",
        "outputId": "1f1c0bec-1c7e-457f-c70f-20b89f543bc1"
      },
      "source": [
        "# Global Variable\n",
        "result = 0 \n",
        "\n",
        "#Use global keyword to make local variables global\n",
        "def sum(x,y):\n",
        "  result = x+y\n",
        "  print(\"result inside function sum\", result)\n",
        "\n",
        "sum(2,3)\n",
        "print(\"result outside function\", result)"
      ],
      "execution_count": 14,
      "outputs": [
        {
          "output_type": "stream",
          "text": [
            "result inside function sum 5\n",
            "result outside function 0\n"
          ],
          "name": "stdout"
        }
      ]
    },
    {
      "cell_type": "markdown",
      "metadata": {
        "id": "MJMO16yMHhjK"
      },
      "source": [
        "Task No.3: Create a file \"MyFile.txt\" using python code.\n"
      ]
    },
    {
      "cell_type": "code",
      "metadata": {
        "id": "MAWd-NlwHguy"
      },
      "source": [
        "f = open(\"MyFile.txt\", \"w\")\n",
        "f.close()"
      ],
      "execution_count": 25,
      "outputs": []
    },
    {
      "cell_type": "markdown",
      "metadata": {
        "id": "CTYICjpgIZSB"
      },
      "source": [
        "Task No.4: Write 50 lines in a file \"MyFile.txt\""
      ]
    },
    {
      "cell_type": "code",
      "metadata": {
        "id": "HqL6aWwvIdIu"
      },
      "source": [
        "f = open(\"MyFile.txt\", \"w\")\n",
        "for x in range(1,51):\n",
        "  f.write(\"Hello World\"+str(x)+\"\\n\")\n",
        "f.close()"
      ],
      "execution_count": 27,
      "outputs": []
    },
    {
      "cell_type": "markdown",
      "metadata": {
        "id": "hKuE-giwJveY"
      },
      "source": [
        "Task No. 5: Read 5 characters of the file \"MyFile.txt\"\n"
      ]
    },
    {
      "cell_type": "code",
      "metadata": {
        "colab": {
          "base_uri": "https://localhost:8080/"
        },
        "id": "IsFhvhK2J_lb",
        "outputId": "55481de6-d637-422c-de58-fce243d800f3"
      },
      "source": [
        "f = open(\"MyFile.txt\", \"r\")\n",
        "print(f.read(5))\n",
        "f.close()"
      ],
      "execution_count": 28,
      "outputs": [
        {
          "output_type": "stream",
          "text": [
            "Hello\n"
          ],
          "name": "stdout"
        }
      ]
    },
    {
      "cell_type": "markdown",
      "metadata": {
        "id": "O7tELgGIKOf8"
      },
      "source": [
        "Task no. 6: Read 20 lines of MyFile.txt\n"
      ]
    },
    {
      "cell_type": "code",
      "metadata": {
        "colab": {
          "base_uri": "https://localhost:8080/"
        },
        "id": "l0Xz1Ja_KWlU",
        "outputId": "75b1ade5-9b26-453c-f8d6-4876ee52d980"
      },
      "source": [
        "f = open(\"MyFile.txt\", \"r\")\n",
        "for x in range(0,20):\n",
        "  print(f.readline())\n",
        "\n",
        "#print(f.read())\n",
        "f.close()"
      ],
      "execution_count": 34,
      "outputs": [
        {
          "output_type": "stream",
          "text": [
            "Hello World1\n",
            "\n",
            "Hello World2\n",
            "\n",
            "Hello World3\n",
            "\n",
            "Hello World4\n",
            "\n",
            "Hello World5\n",
            "\n",
            "Hello World6\n",
            "\n",
            "Hello World7\n",
            "\n",
            "Hello World8\n",
            "\n",
            "Hello World9\n",
            "\n",
            "Hello World10\n",
            "\n",
            "Hello World11\n",
            "\n",
            "Hello World12\n",
            "\n",
            "Hello World13\n",
            "\n",
            "Hello World14\n",
            "\n",
            "Hello World15\n",
            "\n",
            "Hello World16\n",
            "\n",
            "Hello World17\n",
            "\n",
            "Hello World18\n",
            "\n",
            "Hello World19\n",
            "\n",
            "Hello World20\n",
            "\n"
          ],
          "name": "stdout"
        }
      ]
    },
    {
      "cell_type": "markdown",
      "metadata": {
        "id": "Z85GV7-GLKOG"
      },
      "source": [
        "Task no. 7: Read 4th and 6th line of the file\n"
      ]
    },
    {
      "cell_type": "code",
      "metadata": {
        "colab": {
          "base_uri": "https://localhost:8080/"
        },
        "id": "YH0oO8G7LSLR",
        "outputId": "cfd1bbd0-f714-4280-b7fb-2e518927ecdd"
      },
      "source": [
        "f=open('MyFile.txt')\n",
        "lines=f.readlines()\n",
        "#print(type(lines))\n",
        "print(lines[3])\n",
        "print(lines[5])"
      ],
      "execution_count": 56,
      "outputs": [
        {
          "output_type": "stream",
          "text": [
            "Hello World4\n",
            "\n",
            "Hello World6\n",
            "\n"
          ],
          "name": "stdout"
        }
      ]
    },
    {
      "cell_type": "markdown",
      "metadata": {
        "id": "E1qWzIGyM3mm"
      },
      "source": [
        "Task no. 8: Create a new file and delete it using python code"
      ]
    },
    {
      "cell_type": "code",
      "metadata": {
        "id": "KDizJNPdNAV8"
      },
      "source": [
        "f = open(\"MyNewFile.txt\", \"w\")"
      ],
      "execution_count": 39,
      "outputs": []
    },
    {
      "cell_type": "code",
      "metadata": {
        "id": "3ffYR2pjNP2e"
      },
      "source": [
        "import os\n",
        "os.remove(\"MyNewFile.txt\")"
      ],
      "execution_count": 40,
      "outputs": []
    },
    {
      "cell_type": "markdown",
      "metadata": {
        "id": "OWOxTWv_NfL6"
      },
      "source": [
        "Task no. 9: Use the Following file handling methods in your code and explain their working:\n",
        "  - seek( )\n",
        "  - readlines( )\n",
        "  - tell( )\n",
        "  - truncate( )\n",
        "  - writeline( )"
      ]
    },
    {
      "cell_type": "code",
      "metadata": {
        "colab": {
          "base_uri": "https://localhost:8080/"
        },
        "id": "7O2eeSPENil1",
        "outputId": "7a90fc1c-2fed-4cad-fb2b-1a1015f103b2"
      },
      "source": [
        "# tell()\n",
        "f = open(\"MyFile.txt\")\n",
        "print(f.tell())\n",
        "print(f.readline())\n",
        "print(f.tell())\n",
        "print(f.readline())\n",
        "print(f.tell())\n"
      ],
      "execution_count": 41,
      "outputs": [
        {
          "output_type": "stream",
          "text": [
            "0\n",
            "Hello World1\n",
            "\n",
            "13\n",
            "Hello World2\n",
            "\n",
            "26\n"
          ],
          "name": "stdout"
        }
      ]
    },
    {
      "cell_type": "code",
      "metadata": {
        "colab": {
          "base_uri": "https://localhost:8080/"
        },
        "id": "XFzVrIXRl0DP",
        "outputId": "1f7df8a3-2911-45b9-b979-2d654b2dd438"
      },
      "source": [
        "#seek()\n",
        "f = open(\"MyFile.txt\")\n",
        "print(f.tell())\n",
        "print(f.readline())\n",
        "print(f.readline())\n",
        "#f.seek(0)\n",
        "f.seek(6)\n",
        "print(f.readline())"
      ],
      "execution_count": 57,
      "outputs": [
        {
          "output_type": "stream",
          "text": [
            "0\n",
            "Hello World1\n",
            "\n",
            "Hello World2\n",
            "\n",
            "World1\n",
            "\n"
          ],
          "name": "stdout"
        }
      ]
    },
    {
      "cell_type": "code",
      "metadata": {
        "colab": {
          "base_uri": "https://localhost:8080/"
        },
        "id": "K90l2MVvntgR",
        "outputId": "a9b3801c-e299-45a0-b056-373f933572f9"
      },
      "source": [
        "#printlines\n",
        "f = open(\"MyFile.txt\")\n",
        "print(f.readlines())"
      ],
      "execution_count": 52,
      "outputs": [
        {
          "output_type": "stream",
          "text": [
            "['Hello World1\\n', 'Hello World2\\n', 'Hello World3\\n', 'Hello World4\\n', 'Hello World5\\n', 'Hello World6\\n', 'Hello World7\\n', 'Hello World8\\n', 'Hello World9\\n', 'Hello World10\\n', 'Hello World11\\n', 'Hello World12\\n', 'Hello World13\\n', 'Hello World14\\n', 'Hello World15\\n', 'Hello World16\\n', 'Hello World17\\n', 'Hello World18\\n', 'Hello World19\\n', 'Hello World20\\n', 'Hello World21\\n', 'Hello World22\\n', 'Hello World23\\n', 'Hello World24\\n', 'Hello World25\\n', 'Hello World26\\n', 'Hello World27\\n', 'Hello World28\\n', 'Hello World29\\n', 'Hello World30\\n', 'Hello World31\\n', 'Hello World32\\n', 'Hello World33\\n', 'Hello World34\\n', 'Hello World35\\n', 'Hello World36\\n', 'Hello World37\\n', 'Hello World38\\n', 'Hello World39\\n', 'Hello World40\\n', 'Hello World41\\n', 'Hello World42\\n', 'Hello World43\\n', 'Hello World44\\n', 'Hello World45\\n', 'Hello World46\\n', 'Hello World47\\n', 'Hello World48\\n', 'Hello World49\\n', 'Hello World50\\n']\n"
          ],
          "name": "stdout"
        }
      ]
    },
    {
      "cell_type": "code",
      "metadata": {
        "colab": {
          "base_uri": "https://localhost:8080/"
        },
        "id": "wY8OXjTgoYDf",
        "outputId": "b023897e-dece-46eb-d8c3-bd5e5ef29470"
      },
      "source": [
        "#truncate\n",
        "f = open(\"testFile.txt\", \"a\")\n",
        "f.truncate(20)\n",
        "f.close()\n",
        "\n",
        "#open and read the file after the truncate:\n",
        "f = open(\"testFile.txt\", \"r\")\n",
        "print(f.read())\n"
      ],
      "execution_count": 54,
      "outputs": [
        {
          "output_type": "stream",
          "text": [
            "Hello World1\n",
            "Hello W\n"
          ],
          "name": "stdout"
        }
      ]
    },
    {
      "cell_type": "code",
      "metadata": {
        "colab": {
          "base_uri": "https://localhost:8080/"
        },
        "id": "8t-B11wIwt82",
        "outputId": "700073cf-4101-4544-9381-7ebc7bdde494"
      },
      "source": [
        "#writelines\n",
        "f = open(\"testFile2.txt\", \"w\")\n",
        "f.writelines([\"\\nSee you soon!\", \"\\nOver and out.\"])\n",
        "f.close()\n",
        "\n",
        "#open and read the file after the appending:\n",
        "f = open(\"testFile2.txt\", \"r\")\n",
        "print(f.read())"
      ],
      "execution_count": 55,
      "outputs": [
        {
          "output_type": "stream",
          "text": [
            "\n",
            "See you soon!\n",
            "Over and out.\n"
          ],
          "name": "stdout"
        }
      ]
    }
  ]
}