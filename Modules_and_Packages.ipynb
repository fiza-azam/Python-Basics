{
  "nbformat": 4,
  "nbformat_minor": 0,
  "metadata": {
    "colab": {
      "name": "Modules and Packages.ipynb",
      "provenance": [],
      "collapsed_sections": [],
      "authorship_tag": "ABX9TyP8sQiDpgIsifvZLEmJhCuq",
      "include_colab_link": true
    },
    "kernelspec": {
      "name": "python3",
      "display_name": "Python 3"
    },
    "language_info": {
      "name": "python"
    }
  },
  "cells": [
    {
      "cell_type": "markdown",
      "metadata": {
        "id": "view-in-github",
        "colab_type": "text"
      },
      "source": [
        "<a href=\"https://colab.research.google.com/github/fiza-azam/Python-Class/blob/main/Modules_and_Packages.ipynb\" target=\"_parent\"><img src=\"https://colab.research.google.com/assets/colab-badge.svg\" alt=\"Open In Colab\"/></a>"
      ]
    },
    {
      "cell_type": "markdown",
      "metadata": {
        "id": "IptzBbfFM1Ds"
      },
      "source": [
        "Modules in Python work same as library in different programming languages, they contain a set of functions that you want to include in your application."
      ]
    },
    {
      "cell_type": "code",
      "metadata": {
        "id": "NEWQM0JDMs4s"
      },
      "source": [
        "#Create a new file and include the following code in Pycharm\n",
        "person1 = {\n",
        "  \"name\": \"John\",\n",
        "  \"age\": 36,\n",
        "  \"country\": \"Norway\"\n",
        "}\n",
        "\n",
        "def name(name):\n",
        "  print(\"My name is\",name)"
      ],
      "execution_count": null,
      "outputs": []
    },
    {
      "cell_type": "code",
      "metadata": {
        "id": "kwMg6lh_OG0W"
      },
      "source": [
        "#Create another file and call the functions from the module \n",
        "import Mymodule\n",
        "print(Mymodule.person1[\"name\"])\n",
        "Mymodule.name(\"Fiza\")"
      ],
      "execution_count": null,
      "outputs": []
    },
    {
      "cell_type": "markdown",
      "metadata": {
        "id": "WRROVFc7OWd1"
      },
      "source": [
        "In Python a particular dirctory ia considered as a package <br>\n",
        "Follow the three steps to create a package: <br>\n",
        "\n",
        "\n",
        "1.   Create a directory and assign it a package name\n",
        "2.   Create classes and required functions in it\n",
        "3.   Afterwards, create an __init__.py file inside the directory to tell python the directory created is a package.\n"
      ]
    },
    {
      "cell_type": "markdown",
      "metadata": {
        "id": "lqNTj_DjSA65"
      },
      "source": [
        "First Create a directory, named as calculator <br>\n",
        "Create new first file name it as SimpleFunctions <br>\n",
        "Create second file name it as TrignometricFunctions <br>\n",
        "Create third file name it as SpecialFunctions <br>\n",
        "Create a file name it __init__"
      ]
    },
    {
      "cell_type": "markdown",
      "metadata": {
        "id": "MSJnkPMVhcwW"
      },
      "source": [
        "![image.png](data:image/png;base64,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)"
      ]
    },
    {
      "cell_type": "code",
      "metadata": {
        "id": "eRwxy3MCPCuG"
      },
      "source": [
        "#SimpleFunctions.py\n",
        "def sum(a, b):\n",
        "  return a+b\n",
        "\n",
        "def mult(a,b):\n",
        "  return a*b\n",
        "\n",
        "def div(a,b):\n",
        "  return a/b\n",
        "\n",
        "def sub(a,b):\n",
        "  return a-b"
      ],
      "execution_count": null,
      "outputs": []
    },
    {
      "cell_type": "code",
      "metadata": {
        "id": "2QUnvRjwR8PH"
      },
      "source": [
        "#TrignometricFunctions.py\n",
        "import math as m \n",
        "\n",
        "def sin(a):\n",
        "  return m.sin(a)\n",
        "\n",
        "def cos(a):\n",
        "  return m.cos(a)\n",
        "\n",
        "def tan(a):\n",
        "  return m.tan(a)"
      ],
      "execution_count": null,
      "outputs": []
    },
    {
      "cell_type": "code",
      "metadata": {
        "id": "ytEGheOYTZ_e"
      },
      "source": [
        "#SpecialFunctions.py\n",
        "\n",
        "def mod(a,b):\n",
        "  return a%b\n",
        "\n",
        "def abs(a):\n",
        "  if a >= 0:\n",
        "    return a \n",
        "  else:\n",
        "    return -a"
      ],
      "execution_count": null,
      "outputs": []
    },
    {
      "cell_type": "code",
      "metadata": {
        "id": "Mam8E_SfaPQ2"
      },
      "source": [
        "#Creata a main File and import the packages using any of the following code\n",
        "\n",
        "#---1---\n",
        "import calculator.SpecialFunctions\n",
        "print(calculator.SpecialFunctions.abs(-2))\n",
        "\n",
        "#---2---\n",
        "import calculator.SimpleFunctions as simple\n",
        "print(simple.sum(2,4))\n",
        "\n",
        "#---3---\n",
        "from calculator import SpecialFunctions\n",
        "print(SpecialFunctions.abs(-2))\n",
        "\n",
        "#---4---\n",
        "from calculator import SpecialFunctions, TrignometricFunctions\n",
        "print(TrignometricFunctions.sin(90))\n",
        "print(SpecialFunctions.abs(-4))\n",
        "\n",
        "#---5---\n",
        "from calculator import SpecialFunctions as sf\n",
        "print(sf.abs(-4))\n",
        "\n"
      ],
      "execution_count": null,
      "outputs": []
    },
    {
      "cell_type": "markdown",
      "metadata": {
        "id": "49FEALCidY14"
      },
      "source": [
        "pip: A standard package manager that let you install all the packages which are not available in the library <br>\n",
        "To download a new package in Pycharm follow the given steps<br>\n",
        "\n",
        "\n",
        "1.   Go to File>Settings>Project>Python Interpreter\n",
        "2.   Search Package you want to download\n",
        "3.   Click on Install Package\n",
        "\n"
      ]
    },
    {
      "cell_type": "markdown",
      "metadata": {
        "id": "kHrcOS8BkwM8"
      },
      "source": [
        "#Tasks\n",
        "1. Run the example code explained in this file\n",
        "2. Create packages by following the image below: <br>\n",
        "![image.png](data:image/png;base64,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)"
      ]
    }
  ]
}